{
  "nbformat": 4,
  "nbformat_minor": 0,
  "metadata": {
    "colab": {
      "provenance": [],
      "collapsed_sections": [],
      "authorship_tag": "ABX9TyOeHnzdJLo6sag1A3meVU+y",
      "include_colab_link": true
    },
    "kernelspec": {
      "name": "python3",
      "display_name": "Python 3"
    },
    "language_info": {
      "name": "python"
    }
  },
  "cells": [
    {
      "cell_type": "markdown",
      "metadata": {
        "id": "view-in-github",
        "colab_type": "text"
      },
      "source": [
        "<a href=\"https://colab.research.google.com/github/numanbutt27/ML-ASSIGNMENT-1/blob/main/ML_1.ipynb\" target=\"_parent\"><img src=\"https://colab.research.google.com/assets/colab-badge.svg\" alt=\"Open In Colab\"/></a>"
      ]
    },
    {
      "cell_type": "code",
      "execution_count": null,
      "metadata": {
        "id": "UMqy-fB2Je8H"
      },
      "outputs": [],
      "source": [
        "import numpy as np\n",
        "#PART 1\n",
        "myarray=np.random.normal(size=(4,2));\n",
        "arr=[];\n",
        "for i in range(len(myarray)):\n",
        "  for j in range(len(myarray[i])):\n",
        "    dist=((myarray[i,0]-myarray[j,0])**2+(myarray[i,1]-myarray[j,1])**2)**0.5;\n",
        "print(dist);\n",
        "arr.append(dist);\n",
        "#PART 2\n",
        "x = np.random.normal(size=(10,2))\n",
        "from scipy.spatial import distance_matrix\n",
        "dist1=distance_matrix(x,x);\n",
        "print(dist1);\n",
        "#PART 3\n",
        "%timeit dist1;\n",
        "%timeit arr.append(dist);\n",
        "\n",
        "\n"
      ]
    }
  ]
}
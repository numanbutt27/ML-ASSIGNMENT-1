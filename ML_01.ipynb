{
  "nbformat": 4,
  "nbformat_minor": 0,
  "metadata": {
    "colab": {
      "provenance": [],
      "collapsed_sections": [],
      "authorship_tag": "ABX9TyMqPhyyQd6whDzIBGkV9tCw",
      "include_colab_link": true
    },
    "kernelspec": {
      "name": "python3",
      "display_name": "Python 3"
    },
    "language_info": {
      "name": "python"
    }
  },
  "cells": [
    {
      "cell_type": "markdown",
      "metadata": {
        "id": "view-in-github",
        "colab_type": "text"
      },
      "source": [
        "<a href=\"https://colab.research.google.com/github/numanbutt27/ML-ASSIGNMENT-1/blob/main/ML_01.ipynb\" target=\"_parent\"><img src=\"https://colab.research.google.com/assets/colab-badge.svg\" alt=\"Open In Colab\"/></a>"
      ]
    },
    {
      "cell_type": "code",
      "execution_count": 9,
      "metadata": {
        "colab": {
          "base_uri": "https://localhost:8080/"
        },
        "id": "UMqy-fB2Je8H",
        "outputId": "47ff15ae-6879-459b-e6ab-64ef4a3a3fc4"
      },
      "outputs": [
        {
          "output_type": "stream",
          "name": "stdout",
          "text": [
            "3.028323309741634\n",
            "-------------------\n",
            "[[0.         2.57050436 3.43018831 ... 3.34140655 1.28869624 2.39635016]\n",
            " [2.57050436 0.         0.89317617 ... 0.86726595 2.13955102 2.2158694 ]\n",
            " [3.43018831 0.89317617 0.         ... 0.20337725 2.81422969 2.55837612]\n",
            " ...\n",
            " [3.34140655 0.86726595 0.20337725 ... 0.         2.66553399 2.36616314]\n",
            " [1.28869624 2.13955102 2.81422969 ... 2.66553399 0.         1.1122625 ]\n",
            " [2.39635016 2.2158694  2.55837612 ... 2.36616314 1.1122625  0.        ]]\n",
            "Time Complexity For Vactorization:\n",
            "\n",
            "40.1 ns ± 5.66 ns per loop (mean ± std. dev. of 7 runs, 10000000 loops each)\n",
            "Time Complexity For Loops:\n",
            "109 ns ± 6.14 ns per loop (mean ± std. dev. of 7 runs, 10000000 loops each)\n"
          ]
        }
      ],
      "source": [
        "import numpy as np\n",
        "#PART 1\n",
        "#By using For Loop\n",
        "myarray=np.random.normal(size=(300,2));\n",
        "arr=[];\n",
        "for i in range(len(myarray)):\n",
        "  for j in range(len(myarray[i])):\n",
        "    dist=((myarray[i,0]-myarray[j,0])**2+(myarray[i,1]-myarray[j,1])**2)**0.5;\n",
        "print(dist);\n",
        "arr.append(dist);\n",
        "print(\"-------------------\");\n",
        "#PART 2\n",
        "#By using Vactorization\n",
        "x = np.random.normal(size=(300,2))\n",
        "from scipy.spatial import distance_matrix\n",
        "dist1=distance_matrix(x,x);\n",
        "print(dist1);\n",
        "#PART 3\n",
        "print(\"Time Complexity For Vactorization:\");\n",
        "%timeit dist1;\n",
        "print(\"Time Complexity For Loops:\");\n",
        "%timeit arr.append(dist);\n",
        "\n",
        "\n"
      ]
    }
  ]
}
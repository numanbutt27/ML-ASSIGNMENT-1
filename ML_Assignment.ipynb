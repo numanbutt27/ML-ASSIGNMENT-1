{
  "nbformat": 4,
  "nbformat_minor": 0,
  "metadata": {
    "colab": {
      "provenance": [],
      "collapsed_sections": [],
      "authorship_tag": "ABX9TyMqPhyyQd6whDzIBGkV9tCw",
      "include_colab_link": true
    },
    "kernelspec": {
      "name": "python3",
      "display_name": "Python 3"
    },
    "language_info": {
      "name": "python"
    }
  },
  "cells": [
    {
      "cell_type": "markdown",
      "metadata": {
        "id": "view-in-github",
        "colab_type": "text"
      },
      "source": [
        "<a href=\"https://colab.research.google.com/github/numanbutt27/ML-ASSIGNMENT-1/blob/main/ML_Assignment.ipynb\" target=\"_parent\"><img src=\"https://colab.research.google.com/assets/colab-badge.svg\" alt=\"Open In Colab\"/></a>"
      ]
    },
    {
      "cell_type": "code",
      "execution_count": null,
      "metadata": {
        "id": "UMqy-fB2Je8H"
      },
      "outputs": [],
      "source": [
        "import numpy as np\n",
        "#PART 1\n",
        "#By using For Loop\n",
        "myarray=np.random.normal(size=(300,2));\n",
        "arr=[];\n",
        "for i in range(len(myarray)):\n",
        "  for j in range(len(myarray[i])):\n",
        "    dist=((myarray[i,0]-myarray[j,0])**2+(myarray[i,1]-myarray[j,1])**2)**0.5;\n",
        "print(dist);\n",
        "arr.append(dist);\n",
        "print(\"-------------------\");\n",
        "#PART 2\n",
        "#By using Vactorization\n",
        "x = np.random.normal(size=(300,2))\n",
        "from scipy.spatial import distance_matrix\n",
        "dist1=distance_matrix(x,x);\n",
        "print(dist1);\n",
        "#PART 3\n",
        "print(\"Time Complexity For Vactorization:\");\n",
        "%timeit dist1;\n",
        "print(\"Time Complexity For Loops:\");\n",
        "%timeit arr.append(dist);\n",
        "\n",
        "\n"
      ]
    }
  ]
}